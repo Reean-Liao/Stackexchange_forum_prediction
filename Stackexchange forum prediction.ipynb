{
 "cells": [
  {
   "cell_type": "code",
   "execution_count": 1,
   "metadata": {},
   "outputs": [],
   "source": [
    "import pandas as pd\n",
    "import numpy as np\n",
    "from matplotlib import pyplot as plt\n",
    "import seaborn as sns\n",
    "import re\n",
    "\n",
    "#For text mining\n",
    "import nltk\n",
    "from nltk.corpus import stopwords\n",
    "from nltk.stem import WordNetLemmatizer, SnowballStemmer\n",
    "from nltk.tag import pos_tag\n",
    "stop_words = set(stopwords.words('english'))#initialized stopwords and stemmer\n",
    "stemmer=SnowballStemmer('english')\n",
    "lemmatizer=WordNetLemmatizer()\n",
    "from gensim.utils import simple_preprocess\n",
    "from sklearn.feature_extraction.text import TfidfVectorizer\n",
    "from sklearn.feature_extraction.text import CountVectorizer\n",
    "\n",
    "#For modelling\n",
    "from sklearn.model_selection import train_test_split\n",
    "from sklearn.model_selection import cross_val_score\n",
    "from sklearn.model_selection import GridSearchCV\n",
    "from skopt import BayesSearchCV\n",
    "from sklearn.neighbors import KNeighborsClassifier\n",
    "from sklearn.ensemble import RandomForestClassifier\n",
    "from sklearn.ensemble import GradientBoostingClassifier\n",
    "from sklearn.naive_bayes import MultinomialNB\n",
    "from sklearn.neural_network import MLPClassifier\n",
    "from sklearn.metrics import f1_score\n",
    "from sklearn.metrics import accuracy_score\n",
    "\n",
    "#For pipelining\n",
    "from sklearn.pipeline import Pipeline\n",
    "import joblib\n",
    "\n",
    "#download these if missing or if it's not up to date\n",
    "#nltk.download('wordnet') \n",
    "#nltk.download('stopwords')\n",
    "#nltk.download('averaged_perceptron_tagger')\n",
    "#nltk.download('vader_lexicon')"
   ]
  },
  {
   "cell_type": "code",
   "execution_count": 2,
   "metadata": {},
   "outputs": [],
   "source": [
    "pd.options.mode.chained_assignment = None"
   ]
  },
  {
   "cell_type": "markdown",
   "metadata": {},
   "source": [
    "## Table of Content\n",
    "* [Problem Statement](#Problem-Statement)\n",
    "\n",
    "* [Data Exploration](#Data-Exploration)\n",
    "    * [Text Processing](#Text-Processing)\n",
    "\n",
    "* [Modelling](#Modelling)\n",
    "    * [Algorithm Selection](#Algorithm-Selection)\n",
    "    * [Hyperparameter Tuning](#Hyperparameter-Tuning)\n",
    "    * [Prediction](#Prediction)\n",
    "\n",
    "* [Next Step](#Next-Step)"
   ]
  },
  {
   "cell_type": "markdown",
   "metadata": {},
   "source": [
    "## Problem Statement\n",
    "\n",
    "Use the dataset in `./dataset/questions.csv` to develop a classifier to predict the forum based on the question body. Objective is to **maximise the model’s performance**, while balancing the time invested."
   ]
  },
  {
   "cell_type": "markdown",
   "metadata": {},
   "source": [
    "## Data Exploration\n",
    "### Text Processing\n",
    "[Back to top](#Table-of-Content)"
   ]
  },
  {
   "cell_type": "code",
   "execution_count": 3,
   "metadata": {},
   "outputs": [
    {
     "data": {
      "text/html": [
       "<div>\n",
       "<style scoped>\n",
       "    .dataframe tbody tr th:only-of-type {\n",
       "        vertical-align: middle;\n",
       "    }\n",
       "\n",
       "    .dataframe tbody tr th {\n",
       "        vertical-align: top;\n",
       "    }\n",
       "\n",
       "    .dataframe thead th {\n",
       "        text-align: right;\n",
       "    }\n",
       "</style>\n",
       "<table border=\"1\" class=\"dataframe\">\n",
       "  <thead>\n",
       "    <tr style=\"text-align: right;\">\n",
       "      <th></th>\n",
       "      <th>forum</th>\n",
       "      <th>question_body</th>\n",
       "      <th>content_license</th>\n",
       "    </tr>\n",
       "  </thead>\n",
       "  <tbody>\n",
       "    <tr>\n",
       "      <th>0</th>\n",
       "      <td>quantumcomputing</td>\n",
       "      <td>What is the difference between a qudit system ...</td>\n",
       "      <td>CC BY-SA 4.0</td>\n",
       "    </tr>\n",
       "    <tr>\n",
       "      <th>1</th>\n",
       "      <td>astronomy</td>\n",
       "      <td>What does the Sun look like from the heliopause?</td>\n",
       "      <td>CC BY-SA 4.0</td>\n",
       "    </tr>\n",
       "    <tr>\n",
       "      <th>2</th>\n",
       "      <td>martialarts</td>\n",
       "      <td>How to cope with rival that carries stone or f...</td>\n",
       "      <td>CC BY-SA 3.0</td>\n",
       "    </tr>\n",
       "    <tr>\n",
       "      <th>3</th>\n",
       "      <td>opendata</td>\n",
       "      <td>Is there an emotion speech detection - accurat...</td>\n",
       "      <td>CC BY-SA 3.0</td>\n",
       "    </tr>\n",
       "    <tr>\n",
       "      <th>4</th>\n",
       "      <td>astronomy</td>\n",
       "      <td>Is it possible to steer the sight of a Liquid ...</td>\n",
       "      <td>CC BY-SA 3.0</td>\n",
       "    </tr>\n",
       "  </tbody>\n",
       "</table>\n",
       "</div>"
      ],
      "text/plain": [
       "              forum                                      question_body  \\\n",
       "0  quantumcomputing  What is the difference between a qudit system ...   \n",
       "1         astronomy   What does the Sun look like from the heliopause?   \n",
       "2       martialarts  How to cope with rival that carries stone or f...   \n",
       "3          opendata  Is there an emotion speech detection - accurat...   \n",
       "4         astronomy  Is it possible to steer the sight of a Liquid ...   \n",
       "\n",
       "  content_license  \n",
       "0    CC BY-SA 4.0  \n",
       "1    CC BY-SA 4.0  \n",
       "2    CC BY-SA 3.0  \n",
       "3    CC BY-SA 3.0  \n",
       "4    CC BY-SA 3.0  "
      ]
     },
     "execution_count": 3,
     "metadata": {},
     "output_type": "execute_result"
    }
   ],
   "source": [
    "df=pd.read_csv('dataset/questions.csv', header=None)\n",
    "df.columns=['forum','question_body','content_license']\n",
    "df.head()"
   ]
  },
  {
   "cell_type": "markdown",
   "metadata": {},
   "source": [
    "Column | Description\n",
    ":---|:---\n",
    "`forun` | The name of the forum the question belongs to (target variable)\n",
    "`question_body` | The text body of the question\n",
    "`content_license` | Content distribution license"
   ]
  },
  {
   "cell_type": "code",
   "execution_count": 4,
   "metadata": {},
   "outputs": [
    {
     "data": {
      "text/html": [
       "<div>\n",
       "<style scoped>\n",
       "    .dataframe tbody tr th:only-of-type {\n",
       "        vertical-align: middle;\n",
       "    }\n",
       "\n",
       "    .dataframe tbody tr th {\n",
       "        vertical-align: top;\n",
       "    }\n",
       "\n",
       "    .dataframe thead th {\n",
       "        text-align: right;\n",
       "    }\n",
       "</style>\n",
       "<table border=\"1\" class=\"dataframe\">\n",
       "  <thead>\n",
       "    <tr style=\"text-align: right;\">\n",
       "      <th></th>\n",
       "      <th>forum</th>\n",
       "      <th>question_body</th>\n",
       "      <th>content_license</th>\n",
       "    </tr>\n",
       "  </thead>\n",
       "  <tbody>\n",
       "    <tr>\n",
       "      <th>0</th>\n",
       "      <td>ai</td>\n",
       "      <td>8287</td>\n",
       "      <td>8287</td>\n",
       "    </tr>\n",
       "    <tr>\n",
       "      <th>1</th>\n",
       "      <td>astronomy</td>\n",
       "      <td>9995</td>\n",
       "      <td>9995</td>\n",
       "    </tr>\n",
       "    <tr>\n",
       "      <th>2</th>\n",
       "      <td>beer</td>\n",
       "      <td>1065</td>\n",
       "      <td>1065</td>\n",
       "    </tr>\n",
       "    <tr>\n",
       "      <th>3</th>\n",
       "      <td>coffee</td>\n",
       "      <td>1254</td>\n",
       "      <td>1254</td>\n",
       "    </tr>\n",
       "    <tr>\n",
       "      <th>4</th>\n",
       "      <td>computergraphics</td>\n",
       "      <td>3036</td>\n",
       "      <td>3036</td>\n",
       "    </tr>\n",
       "    <tr>\n",
       "      <th>5</th>\n",
       "      <td>martialarts</td>\n",
       "      <td>1863</td>\n",
       "      <td>1863</td>\n",
       "    </tr>\n",
       "    <tr>\n",
       "      <th>6</th>\n",
       "      <td>opendata</td>\n",
       "      <td>5566</td>\n",
       "      <td>5566</td>\n",
       "    </tr>\n",
       "    <tr>\n",
       "      <th>7</th>\n",
       "      <td>quantumcomputing</td>\n",
       "      <td>4681</td>\n",
       "      <td>4681</td>\n",
       "    </tr>\n",
       "    <tr>\n",
       "      <th>8</th>\n",
       "      <td>sports</td>\n",
       "      <td>5171</td>\n",
       "      <td>5171</td>\n",
       "    </tr>\n",
       "  </tbody>\n",
       "</table>\n",
       "</div>"
      ],
      "text/plain": [
       "              forum  question_body  content_license\n",
       "0                ai           8287             8287\n",
       "1         astronomy           9995             9995\n",
       "2              beer           1065             1065\n",
       "3            coffee           1254             1254\n",
       "4  computergraphics           3036             3036\n",
       "5       martialarts           1863             1863\n",
       "6          opendata           5566             5566\n",
       "7  quantumcomputing           4681             4681\n",
       "8            sports           5171             5171"
      ]
     },
     "execution_count": 4,
     "metadata": {},
     "output_type": "execute_result"
    }
   ],
   "source": [
    "df.groupby('forum').count().reset_index()"
   ]
  },
  {
   "cell_type": "markdown",
   "metadata": {},
   "source": [
    "The target variable `forum` has 9 classes, and the classes are mostly balanced except there are significantly fewer questions from `beer`, `coffee` and `martialarts`."
   ]
  },
  {
   "cell_type": "code",
   "execution_count": 5,
   "metadata": {},
   "outputs": [],
   "source": [
    "#show top frequency words\n",
    "def freq_words(x, terms = 30): \n",
    "    \n",
    "    all_words = ' '.join([text for text in x]) \n",
    "    all_words = all_words.split() \n",
    "  \n",
    "    fre_dist = nltk.FreqDist(all_words) \n",
    "    df_words = pd.DataFrame({'word':list(fre_dist.keys()), 'count':list(fre_dist.values())}) \n",
    "  \n",
    "    # selecting top n most frequent words \n",
    "    d = df_words.nlargest(columns=\"count\", n = terms) \n",
    "  \n",
    "    # visualize words and frequencies\n",
    "    plt.figure(figsize=(12,8)) \n",
    "    ax = sns.barplot(data=d, x= \"count\", y = \"word\") \n",
    "    ax.set(ylabel = 'Word') \n",
    "    plt.show()"
   ]
  },
  {
   "cell_type": "code",
   "execution_count": 6,
   "metadata": {},
   "outputs": [
    {
     "data": {
      "image/png": "[encoded data removed]",
      "text/plain": [
       "<Figure size 864x576 with 1 Axes>"
      ]
     },
     "metadata": {
      "needs_background": "light"
     },
     "output_type": "display_data"
    }
   ],
   "source": [
    "freq_words(df['question_body'], terms=40)"
   ]
  },
  {
   "cell_type": "markdown",
   "metadata": {},
   "source": [
    "The most frequent words are mostly comprise stop words; no need to update the stop word list."
   ]
  },
  {
   "cell_type": "code",
   "execution_count": 7,
   "metadata": {},
   "outputs": [],
   "source": [
    "#function to find the part-of-speech tag\n",
    "def find_pos(token_list):\n",
    "    for word, tag in pos_tag(token_list):\n",
    "        if tag.startswith('N'):\n",
    "            pos = 'n'\n",
    "        elif tag.startswith('V'):\n",
    "            pos = 'v'\n",
    "        elif tag.startswith('R'):\n",
    "            pos = 'r'\n",
    "        else:\n",
    "            pos = 'a'\n",
    "    return pos"
   ]
  },
  {
   "cell_type": "code",
   "execution_count": 8,
   "metadata": {},
   "outputs": [],
   "source": [
    "#one stop shop function to clean up the text\n",
    "def clean_text(text):\n",
    "    \n",
    "    cleanText=text\n",
    "    \n",
    "    # clean html links on the body\n",
    "    html = re.compile('<[^>]*>') # remove everything inside the html tags\n",
    "   \n",
    "    cleanText = re.sub(html, ' ', str(cleanText))\n",
    "    \n",
    "    # remove stopwords and lemmatize nouns\n",
    "    tokens = simple_preprocess(cleanText) \n",
    "    # remove new line, lowercase, keep alphabet, remove punctuation and special characters \n",
    "    #- all taken care by gensim's simple preprocess\n",
    "    \n",
    "            \n",
    "    cleanTokens = [lemmatizer.lemmatize(token, \n",
    "                            pos=find_pos(token)) for token in tokens if not token in stop_words and len(token) > 2]\n",
    "    cleanText = ' '.join(cleanTokens)\n",
    "\n",
    "    return cleanText"
   ]
  },
  {
   "cell_type": "code",
   "execution_count": 9,
   "metadata": {},
   "outputs": [],
   "source": [
    "df['clean_body'] = df['question_body'].apply(lambda x: clean_text(x))"
   ]
  },
  {
   "cell_type": "markdown",
   "metadata": {},
   "source": [
    "## Modelling\n",
    "### Algorithm Selection\n",
    "[Back to top](#Table-of-Content)"
   ]
  },
  {
   "cell_type": "markdown",
   "metadata": {},
   "source": [
    "We will split our data into 60% training, 20% validation, and 20% test. The 20% validation will be used for algorithm selection and hyper parameter tuning. "
   ]
  },
  {
   "cell_type": "code",
   "execution_count": 10,
   "metadata": {},
   "outputs": [],
   "source": [
    "#allocate 20% as test, 20% as validation\n",
    "X, xTest, Y, yTest = train_test_split(df['clean_body'], df['forum'],test_size=0.2, random_state = 202107)\n",
    "xTrain, xVal, yTrain, yVal = train_test_split(X, Y, test_size=0.25, random_state = 202107)"
   ]
  },
  {
   "cell_type": "code",
   "execution_count": 11,
   "metadata": {},
   "outputs": [],
   "source": [
    "#initiate vectorizer\n",
    "countV = CountVectorizer(analyzer='word', ngram_range=(1,2), stop_words='english')\n",
    "tfidfV = TfidfVectorizer(analyzer='word', ngram_range=(1,2), stop_words='english')\n",
    "#tfidf = TfidfVectorizer(sublinear_tf=True, min_df=5, norm='l2', ngram_range=(1, 2), stop_words='english')\n",
    "\n",
    "#make the these two for choosing algorithm and hyperparameters\n",
    "xVal_countVec = countV.fit_transform(xVal)\n",
    "xVal_tfidfVec = tfidfV.fit_transform(xVal)"
   ]
  },
  {
   "cell_type": "code",
   "execution_count": 12,
   "metadata": {},
   "outputs": [],
   "source": [
    "rForest=RandomForestClassifier(random_state=202107)\n",
    "knn=KNeighborsClassifier(n_neighbors=9)\n",
    "multiBayes=MultinomialNB()\n",
    "boostTree=GradientBoostingClassifier(random_state=202107)\n",
    "mlp=MLPClassifier(random_state=202107)\n",
    "\n",
    "models = [knn, rForest, multiBayes, boostTree, mlp]"
   ]
  },
  {
   "cell_type": "code",
   "execution_count": 13,
   "metadata": {},
   "outputs": [],
   "source": [
    "def get_model_cv(model_list, features_vec, labels, scoring, cv):   \n",
    "\n",
    "    #build a df for the cv results\n",
    "    df_cv = pd.DataFrame(index=range(cv * len(model_list)))\n",
    "    entries = []\n",
    "    \n",
    "    for model in model_list:\n",
    "        model_name = model.__class__.__name__\n",
    "            \n",
    "        performance = cross_val_score(model, features_vec, labels, scoring=scoring, cv=cv)\n",
    "    \n",
    "        for fold_idx, accuracy in enumerate(performance):\n",
    "            entries.append((model_name, fold_idx, accuracy))\n",
    "            \n",
    "    \n",
    "    df_cv = pd.DataFrame(entries, columns=['modelName', 'foldIndex', 'Performance'])\n",
    "    \n",
    "    return df_cv"
   ]
  },
  {
   "cell_type": "markdown",
   "metadata": {},
   "source": [
    "Given the classes are slightly imbalanced, we will choose `f1_weighted` as the performance measure. `f1_weighted` calculate metrics for each label, and find their average weighted by support (the number of true instances for each label). This alters `f1_macro` to account for label imbalance.\n",
    "\n",
    "To speed up the model selection process, we will use the much smaller `validation` dataset and do a 3-fold cross validation, to find out the best suitable algorithm."
   ]
  },
  {
   "cell_type": "code",
   "execution_count": 14,
   "metadata": {},
   "outputs": [],
   "source": [
    "df_model_cv_count=get_model_cv(model_list=models, features_vec=xVal_countVec, labels=yVal, \n",
    "                               scoring='f1_weighted', cv=3)"
   ]
  },
  {
   "cell_type": "code",
   "execution_count": 15,
   "metadata": {},
   "outputs": [],
   "source": [
    "df_model_cv_tfidf=get_model_cv(model_list=models, features_vec=xVal_tfidfVec, labels=yVal, \n",
    "                               scoring='f1_weighted', cv=3)"
   ]
  },
  {
   "cell_type": "code",
   "execution_count": 16,
   "metadata": {},
   "outputs": [
    {
     "data": {
      "image/png": "[encoded data removed]",
      "text/plain": [
       "<Figure size 720x432 with 1 Axes>"
      ]
     },
     "metadata": {
      "needs_background": "light"
     },
     "output_type": "display_data"
    }
   ],
   "source": [
    "plt.figure(figsize=(10,6))\n",
    "sns.boxplot(x='modelName', y='Performance', data=df_model_cv_count, palette='Set3')\n",
    "sns.stripplot(x='modelName', y='Performance', data=df_model_cv_count, \n",
    "              size=8, jitter=True, edgecolor=\"gray\", linewidth=1, palette='Set3')\n",
    "plt.show()"
   ]
  },
  {
   "cell_type": "markdown",
   "metadata": {},
   "source": [
    "`Count` vectoriser counts the frequency of all words in our corpus, sorts them and grabs the most recurring features (using max_features hyperparameter). It works well with **Multinomial Bayes** (MB) as MB expects count-like discrete features. However the count vectoriser might be biased as it might leave out some of the important but less frequent words. "
   ]
  },
  {
   "cell_type": "code",
   "execution_count": 17,
   "metadata": {},
   "outputs": [
    {
     "data": {
      "image/png": "[encoded data removed]",
      "text/plain": [
       "<Figure size 720x432 with 1 Axes>"
      ]
     },
     "metadata": {
      "needs_background": "light"
     },
     "output_type": "display_data"
    }
   ],
   "source": [
    "plt.figure(figsize=(10,6))\n",
    "sns.boxplot(x='modelName', y='Performance', data=df_model_cv_tfidf, palette='Set3')\n",
    "sns.stripplot(x='modelName', y='Performance', data=df_model_cv_tfidf, \n",
    "              size=8, jitter=True, edgecolor=\"gray\", linewidth=1, palette='Set3')\n",
    "plt.show()"
   ]
  },
  {
   "cell_type": "markdown",
   "metadata": {},
   "source": [
    "At a glance, **Multi-layer Perceptron**, or MLP classifier seems to be the most suitable algorithm. Using `count` or `tfidf` vectorisation seems to generate very similar outcome. But considering the bias mentioned above, we will take this algorithm and use `tfidf `vectorisation to see whether we can improve the performance further.\n",
    "\n",
    "### Hyperparameter Tuning\n",
    "[Back to top](#Table-of-Content)"
   ]
  },
  {
   "cell_type": "markdown",
   "metadata": {},
   "source": [
    "As we have a very large dataset, training on local machine will be hard, so we will only select a few hyperparameters to tune."
   ]
  },
  {
   "cell_type": "code",
   "execution_count": 18,
   "metadata": {},
   "outputs": [],
   "source": [
    "#Build this for hyperparameter tuning\n",
    "pipeline_tune = Pipeline([\n",
    "    ('tfidf', TfidfVectorizer(analyzer='word', stop_words='english')),\n",
    "    ('mlp', MLPClassifier(random_state=202108))\n",
    "        ])\n",
    "#pipeline_tune.get_params().keys() -- use this to see the keys of all hyperparameters"
   ]
  },
  {
   "cell_type": "code",
   "execution_count": 19,
   "metadata": {},
   "outputs": [],
   "source": [
    "#used for grid search\n",
    "parameters_1 = {\n",
    "    'tfidf__ngram_range': [(1, 1), (1, 2), (2,2)],\n",
    "    'mlp__hidden_layer_sizes': [(50,50,50), (50,100,50), (100,100,100)],\n",
    "    'mlp__activation': ['tanh', 'relu'],\n",
    "    'mlp__learning_rate': ['constant','adaptive']\n",
    "    }\n",
    "\n",
    "#used for bayesian search - bayesian search cannot do tuples\n",
    "parameters_2 = {\n",
    "    'mlp__alpha': (0.0001, 0.05, 'log-uniform'), #L2 penalty\n",
    "    }"
   ]
  },
  {
   "cell_type": "code",
   "execution_count": 20,
   "metadata": {},
   "outputs": [
    {
     "name": "stdout",
     "output_type": "stream",
     "text": [
      "Fitting 3 folds for each of 36 candidates, totalling 108 fits\n"
     ]
    },
    {
     "name": "stderr",
     "output_type": "stream",
     "text": [
      "[Parallel(n_jobs=2)]: Using backend LokyBackend with 2 concurrent workers.\n",
      "[Parallel(n_jobs=2)]: Done  28 tasks      | elapsed:  8.4min\n",
      "[Parallel(n_jobs=2)]: Done 108 out of 108 | elapsed: 230.9min finished\n"
     ]
    },
    {
     "name": "stdout",
     "output_type": "stream",
     "text": [
      "Best parameters set:\n",
      "{'mlp__activation': 'tanh', 'mlp__hidden_layer_sizes': (100, 100, 100), 'mlp__learning_rate': 'constant', 'tfidf__ngram_range': (1, 2)}\n"
     ]
    }
   ],
   "source": [
    "grid_search = GridSearchCV(pipeline_tune, parameters_1, scoring='f1_weighted', cv=3, n_jobs=2, verbose=3)\n",
    "grid_search_result=grid_search.fit(xVal, yVal)\n",
    "\n",
    "print(\"Best parameters set:\")\n",
    "print (grid_search_result.best_params_)"
   ]
  },
  {
   "cell_type": "code",
   "execution_count": 21,
   "metadata": {},
   "outputs": [
    {
     "data": {
      "text/plain": [
       "array([0.85823408, 0.86448445, 0.57965905, 0.85823408, 0.86448445,\n",
       "       0.57965905, 0.85455573, 0.86449038, 0.57599476, 0.85455573,\n",
       "       0.86449038, 0.57599476, 0.85785566, 0.86495962, 0.57808742,\n",
       "       0.85785566, 0.86495962, 0.57808742, 0.8391397 , 0.84486702,\n",
       "       0.57541667, 0.8391397 , 0.84486702, 0.57541667, 0.82292052,\n",
       "       0.8488439 , 0.56926383, 0.82292052, 0.8488439 , 0.56926383,\n",
       "       0.84987596, 0.85849388, 0.57743086, 0.84987596, 0.85849388,\n",
       "       0.57743086])"
      ]
     },
     "execution_count": 21,
     "metadata": {},
     "output_type": "execute_result"
    }
   ],
   "source": [
    "grid_search_result.cv_results_['mean_test_score']"
   ]
  },
  {
   "cell_type": "code",
   "execution_count": 24,
   "metadata": {},
   "outputs": [
    {
     "name": "stdout",
     "output_type": "stream",
     "text": [
      "Fitting 3 folds for each of 1 candidates, totalling 3 fits\n"
     ]
    },
    {
     "name": "stderr",
     "output_type": "stream",
     "text": [
      "[Parallel(n_jobs=2)]: Using backend LokyBackend with 2 concurrent workers.\n",
      "[Parallel(n_jobs=2)]: Done   3 out of   3 | elapsed:  2.2min finished\n",
      "[Parallel(n_jobs=2)]: Using backend LokyBackend with 2 concurrent workers.\n"
     ]
    },
    {
     "name": "stdout",
     "output_type": "stream",
     "text": [
      "Fitting 3 folds for each of 1 candidates, totalling 3 fits\n"
     ]
    },
    {
     "name": "stderr",
     "output_type": "stream",
     "text": [
      "[Parallel(n_jobs=2)]: Done   3 out of   3 | elapsed:  4.4min finished\n",
      "[Parallel(n_jobs=2)]: Using backend LokyBackend with 2 concurrent workers.\n"
     ]
    },
    {
     "name": "stdout",
     "output_type": "stream",
     "text": [
      "Fitting 3 folds for each of 1 candidates, totalling 3 fits\n"
     ]
    },
    {
     "name": "stderr",
     "output_type": "stream",
     "text": [
      "[Parallel(n_jobs=2)]: Done   3 out of   3 | elapsed:  2.1min finished\n",
      "[Parallel(n_jobs=2)]: Using backend LokyBackend with 2 concurrent workers.\n"
     ]
    },
    {
     "name": "stdout",
     "output_type": "stream",
     "text": [
      "Fitting 3 folds for each of 1 candidates, totalling 3 fits\n"
     ]
    },
    {
     "name": "stderr",
     "output_type": "stream",
     "text": [
      "[Parallel(n_jobs=2)]: Done   3 out of   3 | elapsed:  3.9min finished\n",
      "[Parallel(n_jobs=2)]: Using backend LokyBackend with 2 concurrent workers.\n"
     ]
    },
    {
     "name": "stdout",
     "output_type": "stream",
     "text": [
      "Fitting 3 folds for each of 1 candidates, totalling 3 fits\n"
     ]
    },
    {
     "name": "stderr",
     "output_type": "stream",
     "text": [
      "[Parallel(n_jobs=2)]: Done   3 out of   3 | elapsed: 24.3min finished\n",
      "[Parallel(n_jobs=2)]: Using backend LokyBackend with 2 concurrent workers.\n"
     ]
    },
    {
     "name": "stdout",
     "output_type": "stream",
     "text": [
      "Fitting 3 folds for each of 1 candidates, totalling 3 fits\n"
     ]
    },
    {
     "name": "stderr",
     "output_type": "stream",
     "text": [
      "[Parallel(n_jobs=2)]: Done   3 out of   3 | elapsed:  4.1min finished\n",
      "[Parallel(n_jobs=2)]: Using backend LokyBackend with 2 concurrent workers.\n"
     ]
    },
    {
     "name": "stdout",
     "output_type": "stream",
     "text": [
      "Fitting 3 folds for each of 1 candidates, totalling 3 fits\n"
     ]
    },
    {
     "name": "stderr",
     "output_type": "stream",
     "text": [
      "[Parallel(n_jobs=2)]: Done   3 out of   3 | elapsed:  2.3min finished\n",
      "[Parallel(n_jobs=2)]: Using backend LokyBackend with 2 concurrent workers.\n"
     ]
    },
    {
     "name": "stdout",
     "output_type": "stream",
     "text": [
      "Fitting 3 folds for each of 1 candidates, totalling 3 fits\n"
     ]
    },
    {
     "name": "stderr",
     "output_type": "stream",
     "text": [
      "[Parallel(n_jobs=2)]: Done   3 out of   3 | elapsed:  2.0min finished\n",
      "[Parallel(n_jobs=2)]: Using backend LokyBackend with 2 concurrent workers.\n"
     ]
    },
    {
     "name": "stdout",
     "output_type": "stream",
     "text": [
      "Fitting 3 folds for each of 1 candidates, totalling 3 fits\n"
     ]
    },
    {
     "name": "stderr",
     "output_type": "stream",
     "text": [
      "[Parallel(n_jobs=2)]: Done   3 out of   3 | elapsed: 13.4min finished\n"
     ]
    },
    {
     "name": "stdout",
     "output_type": "stream",
     "text": [
      "Fitting 3 folds for each of 1 candidates, totalling 3 fits\n"
     ]
    },
    {
     "name": "stderr",
     "output_type": "stream",
     "text": [
      "[Parallel(n_jobs=2)]: Using backend LokyBackend with 2 concurrent workers.\n",
      "[Parallel(n_jobs=2)]: Done   3 out of   3 | elapsed:  2.8min finished\n"
     ]
    },
    {
     "name": "stdout",
     "output_type": "stream",
     "text": [
      "Best parameters set:\n",
      "OrderedDict([('mlp__alpha', 0.0015956499568491737)])\n"
     ]
    }
   ],
   "source": [
    "pipeline_tune_adjusted = Pipeline([\n",
    "    ('tfidf', TfidfVectorizer(analyzer='word', ngram_range=(1,2), stop_words='english')),\n",
    "    ('mlp', MLPClassifier(activation='tanh', hidden_layer_sizes=(100,100,100), learning_rate = 'constant',\n",
    "                          random_state=202108))\n",
    "        ])\n",
    "\n",
    "bayes_search = BayesSearchCV(pipeline_tune_adjusted, parameters_2, scoring='f1_weighted', n_iter=10, \n",
    "                             cv=3, n_jobs=2, verbose=1) \n",
    "bayes_search_result=bayes_search.fit(xVal, yVal)\n",
    "\n",
    "\n",
    "print(\"Best parameters set:\")\n",
    "print (bayes_search_result.best_params_)"
   ]
  },
  {
   "cell_type": "code",
   "execution_count": 25,
   "metadata": {},
   "outputs": [
    {
     "data": {
      "text/plain": [
       "[0.8649596173837265,\n",
       " 0.8612309820968084,\n",
       " 0.864947228512706,\n",
       " 0.8617688147199143,\n",
       " 0.8556084196918452,\n",
       " 0.8624121922266311,\n",
       " 0.865916610535382,\n",
       " 0.8655670346538983,\n",
       " 0.8510723366518332,\n",
       " 0.8640403157060252]"
      ]
     },
     "execution_count": 25,
     "metadata": {},
     "output_type": "execute_result"
    }
   ],
   "source": [
    "bayes_search_result.cv_results_['mean_test_score'] "
   ]
  },
  {
   "cell_type": "markdown",
   "metadata": {},
   "source": [
    "### Prediction\n",
    "[Back to top](#Table-of-Content)"
   ]
  },
  {
   "cell_type": "code",
   "execution_count": 26,
   "metadata": {},
   "outputs": [],
   "source": [
    "pipeline = Pipeline([\n",
    "    ('tfidf', TfidfVectorizer(analyzer='word', ngram_range=(1,2), stop_words='english')),\n",
    "    ('mlp', MLPClassifier(activation ='tanh', alpha=0.0016, hidden_layer_sizes =(100,100,100), \n",
    "                         learning_rate= 'constant', random_state=202107))\n",
    "        ])"
   ]
  },
  {
   "cell_type": "code",
   "execution_count": 27,
   "metadata": {},
   "outputs": [
    {
     "name": "stdout",
     "output_type": "stream",
     "text": [
      "Test f1 score is 88.83%\n"
     ]
    }
   ],
   "source": [
    "pipeline.fit(xTrain, yTrain)\n",
    "prediction = pipeline.predict(xTest)\n",
    "print('Test f1 score is {:.2%}'.format(f1_score(yTest, prediction, average='weighted')))"
   ]
  },
  {
   "cell_type": "code",
   "execution_count": 28,
   "metadata": {},
   "outputs": [
    {
     "name": "stdout",
     "output_type": "stream",
     "text": [
      "Test accuracy score is 88.75%\n"
     ]
    }
   ],
   "source": [
    "print('Test accuracy score is {:.2%}'.format(accuracy_score(yTest, prediction)))"
   ]
  },
  {
   "cell_type": "code",
   "execution_count": 29,
   "metadata": {},
   "outputs": [
    {
     "data": {
      "text/plain": [
       "['forum_trained_pipeline.joblib']"
      ]
     },
     "execution_count": 29,
     "metadata": {},
     "output_type": "execute_result"
    }
   ],
   "source": [
    "joblib.dump(pipeline, 'forum_trained_pipeline.joblib')"
   ]
  },
  {
   "cell_type": "markdown",
   "metadata": {},
   "source": [
    "The model is able to generalise quite well in the test dataset with a predictive power of 91% (note f1 score is a balance between recall and precision). We will export this model.\n",
    "\n",
    "## Next Step\n",
    "[Back to top](#Table-of-Content)"
   ]
  },
  {
   "cell_type": "markdown",
   "metadata": {},
   "source": [
    "To further improve model performance, we can look into:\n",
    "\n",
    "  * **Resampling**. Use resampling techniques (up-sampling, down-sampling, SMOTE) to rebalance the classes in forum type.\n",
    "  * **Fully customised neural networks with Keras**. Build sequential models from scratch, experiment to see what could offer better performance.\n",
    "  * **Retune hyperparameters**. Test a wider range of hyperparameters on kubernetes clusters."
   ]
  },
  {
   "cell_type": "code",
   "execution_count": null,
   "metadata": {},
   "outputs": [],
   "source": []
  }
 ],
 "metadata": {
  "kernelspec": {
   "display_name": "Python 3",
   "language": "python",
   "name": "python3"
  },
  "language_info": {
   "codemirror_mode": {
    "name": "ipython",
    "version": 3
   },
   "file_extension": ".py",
   "mimetype": "text/x-python",
   "name": "python",
   "nbconvert_exporter": "python",
   "pygments_lexer": "ipython3",
   "version": "3.7.4"
  }
 },
 "nbformat": 4,
 "nbformat_minor": 2
}
